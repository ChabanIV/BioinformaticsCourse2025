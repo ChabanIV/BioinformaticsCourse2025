{
 "cells": [
  {
   "cell_type": "markdown",
   "id": "92d977b1d31bbb8e",
   "metadata": {
    "collapsed": false,
    "jupyter": {
     "outputs_hidden": false
    }
   },
   "source": [
    "# Домашнее задание по первой лекции.\n"
   ]
  },
  {
   "cell_type": "markdown",
   "id": "f02a9d3468c731bc",
   "metadata": {
    "collapsed": false,
    "jupyter": {
     "outputs_hidden": false
    }
   },
   "source": [
    "## 1. Хэмминг\n",
    "Реализуйте вычисление расстояния Хэмминга."
   ]
  },
  {
   "cell_type": "code",
   "execution_count": 1,
   "id": "2e6af6ae-82ac-415a-a090-ba9a2922b354",
   "metadata": {},
   "outputs": [],
   "source": [
    "from Bio import SeqIO\n",
    "from Bio.Seq import Seq"
   ]
  },
  {
   "cell_type": "code",
   "execution_count": 11,
   "id": "6842b885-7b67-4869-8d91-ebfb7c5b5eee",
   "metadata": {},
   "outputs": [],
   "source": [
    "def hamming_distance(str1, str2):\n",
    "   if (len(str1) != len(str2)):\n",
    "       raise Exception('Строки должны быть одной длины')\n",
    "   distance = sum(с1 != с2 for с1, с2 in zip(str1, str2))\n",
    "   return distance"
   ]
  },
  {
   "cell_type": "markdown",
   "id": "2fcd468a-4e6b-43ce-ad6c-47bd9b51307f",
   "metadata": {},
   "source": [
    "### Тестирование"
   ]
  },
  {
   "cell_type": "code",
   "execution_count": 24,
   "id": "e57e2402-aa83-4d3a-b79e-25c811bda5dc",
   "metadata": {},
   "outputs": [
    {
     "name": "stdout",
     "output_type": "stream",
     "text": [
      "s1 = AAGTGCTTGGGGCGGCGAGCATGGCGGCAGCGGCTGCAGGCCTGGGCGGCGGCGGCGCCGGCCCGGGACCCGAGGCCGGGGACTTCCTGGCCCGCTACCGGCTGGTATCGAACAAGCTGAAGAAGCGGTTCCTGCGGAAGCCGAACGTGGCGGAGGCCGGCGAGCAGTTCGGACAGCTGGGCCGGGAGCTGCGCGCCCAGGAGTGTCTGCCCTACGCGGCCTGGTGCCAGCTGGCGGTGGCGCGCTGCCAGCAGGCGCTCTTCCACGGGCCCGGGGAGGCGCTGGCCCTCACCGAGGCCGCCCGCCTCTTCCTGCGGCAGGAGCGCGACGCGCGCCAGCGCCTGGTCTGCCCCGCCGCCTACGGGGAGCCGCTGCAGGCCGCCGCCAGCGCCCTGGGCGCCGCGGTGCGTCTGCACCTCGAGCTGGGCCAGCCGGCCGCCGCCGCCGCCCTCTGCCTCGAGCTGGCCGCCGCCCTGCGCGACCTGGGCCAGCCGGCCGCCGCCGCCGGTCACTTCCAGCGCGCCGCCCAGCTCCAGCTGCCCCAGCTGCCCCTGGCCGCGCTGCAGGCGCTTGGCGAGGCCGCCTCCTGCCAGCTGCTGGCGCGCGACTACACCGGCGCCCTGGCGGTCTTCACGCGCATGCAGCGCCTGGCGCGGGAGCACGGCAGCCACCCGGTGCAGTCACTGCCGCCGCCCCCGCCGCCGGCACCCCAGCCCGGGCCCGGGGCGACGCCCGCCCTACCGGCCGCGCTGCTTCCTCCGAACTCCGGCTCGGCGGCGCCCTCTCCCGCCGCCCTGGGCGCCTTCTCGGACGTGCTGGTCCGCTGCGAGGTGTCCCGCGTGCTGCTGCTGCTCCTCCTGCAACCACCGCCCGCCAAGCTGCTGCCGGAGCACGCCCAGACCCTGGAGAAGTACTCCTGGGAGGCTTTTGACAGCCACGGGCAGGAGAGCAGCGGCCAGCTTCCCGAGGAGCTCTTTCTGCTGCTCCAGTCTTTGGTCATGGCTACCCACGAAAAGGACACGGAAGCCATCAAGTCGCTGCAGGTGGAGATGTGGCCACTGTTGACTGCTGAGCAGAACCACCTCCTTCACCTCGTTCTGCAAGAAACCATCTCCCCCTCAGGACAGGGAGTCTGATCCATCCCATTCACCCAGTGACTTCTTTTTGCCCAGGCCTGGACTTTTTGCATCAGTCACGTTAACCAGATGACTTTGCCTGTTACCAAACCTCATGCATCCACGTTTGCGTCTGGGGAGGAATAAAAAGACATCGTTCCCGCTTCTGCGTTTTGTTATTCCTACTGCCGCCATAGGAATTATTTCGTTGGCTGAACGTTACCAGCACCCCGAGAACACATTTTGATAGAATCAGAGTAGAGGACATGGCTGTCTTCTAAAAAGCCACGACATGAAAATGACAATCCCTTTCGTCTCCTTCCTCCGCTGCTTCCACCTAACGCAGCCTCCTGCCTCCGCCTTTGTTTCATAGTGAGGATTTTATTTTGCACGGCGCCCTCCCTCTAAATACCTACCCTAGATGATTTCATCCTGCCCCTCACTTCTTAACATATTCCTGTGTCTTTGTAATGGCCAAATTTCTCCTTCCACTCGTCCGCACGGTACGTCTTCATGGGAGTCATTTTATTCCTTACAGCTTCCTTGTAACCACAGCCCTAAATCCATGATAAAGCTACTCTTGTACTCCTCA\n",
      "s2 = AAGTGCTTGGGGCGGCGAGCATGGCGGCAGCGGCTGCAGGCCTGGGCGGCGGCGGCGCCGGCCCGGGACCCGAGGCCGGGGACTTCCTGGCCCGCTACCGGCTGGTATCGAACAAGCTGAAGAAGCGGTTCCTGCGGAAGCCGAACGTGGCGGAGGCCGGCGAGCAGTTCGGACAGCTGGGCCGGGAGCTGCGCGCCCAGGAGTGTCTGCCCTACGCGGCCTGGATTTTTTTGCCAGCTGGCGGTGGCGCGCTGCCAGCAGGCGGGGGGCCTCTTCCACGGGCCCGGGGAGGCGCTGGCCCTCACCGAGGCCGCCCGCCTCTTCCTGCGGCAGGAGCGCGACGCGCGCCAGCGCCTGGTCTGCCCCGCCGCCTACGGGGAGCCGCTGCAGGCCGCCGCCAGCGCCCTGGGCGCCGCGGTGCGTCTGCACCTCGAGCTGGGCCAGCCGGCCGCCGCCGCCGCCCTCTGCCTCGAGCTGGCCGCCGCCCTGCGCGACCTGGGCCAGCCGGCCGCCGCCGCCGGTCACTTCCAGCGCGCCGCCCAGCTCCAGCTGCCCCAGCTGCCCCTGGCCGCGCTGCAGGCGCTTGGCGAGGCCGCCTCCTGCCAGCTGCTGGCGCGCGACTACACCGGCGCCCTGGCGGTCTTCACGCGCATGCAGCGCCTGGCGCGGGAGCACAAATTGGCAGCCACCCGGTGCAGTCACTGCCGCCGCCCCCGCCGCCGGCACCCCAGCCCGGGCCCGGGGCGACGCCCGCCCTACCGGCCGCGCTGTCGGCGGCGCCCTCTCCCGCCGCCCTGGGCGCCTTCTCGGACGTGCTGGTCCGCTGCGAGGTGTCCCGCGTGCTGCTGCTGCTCCTCCTGCAACCACCGCCCGCCAAGCTGCTGCCGGAGCACGCCCAGACCCTGGAGAAGTACTCCTGGGAGGCTTTTGACAGCCACGGGCAGGAGAGCAGCGGCCAGCTTCCCGAGGAGCTCTTTCTGCTGCTCCAGTCTTTGGTCATGGCTACCCACGAAAAGGACACGGAAGCCATCAAGTCGCTGCAGGTGGAGATGTGGCCACTGTTGACTGCTGAGCAGGGTTTCCGAACCACCTCCTTCACCTCGTTCTGCAAGAAACCATCTCCCCCTCAGGACAGGGAGTCTGATCCATCCCATTCACCCAGTGACTTCTTTTTGCCCAGGCCTGGACTTAGTCACGTTAACCAGATGACTTTGCCTGTTACCAAACCTCATGCATCCACGTTTGCGTCTGGGGAGGAATAAAAAGACATCGTTCCCGCTTCTGCGTTTTGTTATTCCTACTGCCGCCATAGGAATTATTTCGTTGGCTGAACGTTACCAGCACCCCGAGAACACATTTTGATAGAATCAGAGTAGAGGACATGGCTGTCTTCTAAAAAGCCACGACATGAAAATGACAATCCCTTTCGTCTCCTTCCAAAAAAACCCTCCCCCGCTGCTTCCACCTAACGCAGCCTCCTGCCTCCGCCTTTGTTTCATAGTGAGGATTTTATTTTGCACGGCGCCCTCCCTCTAAATACCTACCCTAGATGTTTCATCCTGCCCCTCACTTCTTAACATATTCCTGTGTCTTTGTAATGGCCAAATTTCTCCTTCACTCGTCCGCACGGTACGTCTTCATGGGAGTCATTTTATTCCTTACAGCTTCCTTGTAACCACAGCCCTAAATCCATATAAAGCTACTCTTTACTCCTCA\n",
      "sc1 = GATTACA\n",
      "sc2 = CATTAGA\n"
     ]
    }
   ],
   "source": [
    "# Данные для проверки\n",
    "fasta_sequences = list(SeqIO.parse(\"data/f8.fasta\", \"fasta\"))\n",
    "s1, s2=fasta_sequences[0], fasta_sequences[1]\n",
    "\n",
    "fasta_sequences2 = list(SeqIO.parse(\"data/gattaca.fasta\", \"fasta\"))\n",
    "sc1, sc2=fasta_sequences2[0], fasta_sequences2[1]\n",
    "\n",
    "empty_seq = Seq(\"\")\n",
    "\n",
    "print(f's1 = {s1.seq}')\n",
    "print(f's2 = {s2.seq}')\n",
    "print(f'sc1 = {sc1.seq}')\n",
    "print(f'sc2 = {sc2.seq}')"
   ]
  },
  {
   "cell_type": "code",
   "execution_count": 14,
   "id": "9f3f8c84-6389-447b-8718-b62764756cc6",
   "metadata": {},
   "outputs": [
    {
     "name": "stdout",
     "output_type": "stream",
     "text": [
      "1. Строки разной длины\n"
     ]
    },
    {
     "ename": "Exception",
     "evalue": "Строки должны быть одной длины",
     "output_type": "error",
     "traceback": [
      "\u001b[1;31m---------------------------------------------------------------------------\u001b[0m",
      "\u001b[1;31mException\u001b[0m                                 Traceback (most recent call last)",
      "Cell \u001b[1;32mIn[14], line 2\u001b[0m\n\u001b[0;32m      1\u001b[0m \u001b[38;5;28mprint\u001b[39m(\u001b[38;5;124m'\u001b[39m\u001b[38;5;124m1. Строки разной длины\u001b[39m\u001b[38;5;124m'\u001b[39m)\n\u001b[1;32m----> 2\u001b[0m \u001b[38;5;28mprint\u001b[39m(\u001b[38;5;124m'\u001b[39m\u001b[38;5;124mРезультат:\u001b[39m\u001b[38;5;124m'\u001b[39m, hamming_distance(s1\u001b[38;5;241m.\u001b[39mseq, s2\u001b[38;5;241m.\u001b[39mseq))\n",
      "Cell \u001b[1;32mIn[11], line 3\u001b[0m, in \u001b[0;36mhamming_distance\u001b[1;34m(str1, str2)\u001b[0m\n\u001b[0;32m      1\u001b[0m \u001b[38;5;28;01mdef\u001b[39;00m \u001b[38;5;21mhamming_distance\u001b[39m(str1, str2):\n\u001b[0;32m      2\u001b[0m    \u001b[38;5;28;01mif\u001b[39;00m (\u001b[38;5;28mlen\u001b[39m(str1) \u001b[38;5;241m!=\u001b[39m \u001b[38;5;28mlen\u001b[39m(str2)):\n\u001b[1;32m----> 3\u001b[0m        \u001b[38;5;28;01mraise\u001b[39;00m \u001b[38;5;167;01mException\u001b[39;00m(\u001b[38;5;124m'\u001b[39m\u001b[38;5;124mСтроки должны быть одной длины\u001b[39m\u001b[38;5;124m'\u001b[39m)\n\u001b[0;32m      4\u001b[0m    distance \u001b[38;5;241m=\u001b[39m \u001b[38;5;28msum\u001b[39m(с1 \u001b[38;5;241m!=\u001b[39m с2 \u001b[38;5;28;01mfor\u001b[39;00m с1, с2 \u001b[38;5;129;01min\u001b[39;00m \u001b[38;5;28mzip\u001b[39m(str1, str2))\n\u001b[0;32m      5\u001b[0m    \u001b[38;5;28;01mreturn\u001b[39;00m distance\n",
      "\u001b[1;31mException\u001b[0m: Строки должны быть одной длины"
     ]
    }
   ],
   "source": [
    "print('1. Строки разной длины')\n",
    "print('Результат:', hamming_distance(s1.seq, s2.seq))"
   ]
  },
  {
   "cell_type": "code",
   "execution_count": 15,
   "id": "cd835d32-498d-4323-8c2e-85a4dc4eb73f",
   "metadata": {},
   "outputs": [
    {
     "name": "stdout",
     "output_type": "stream",
     "text": [
      "2. Строки совпадают:\n",
      "Результат: 0\n"
     ]
    }
   ],
   "source": [
    "print('2. Строки совпадают:')\n",
    "print('Результат:', hamming_distance(s1.seq, s1.seq))"
   ]
  },
  {
   "cell_type": "code",
   "execution_count": 16,
   "id": "9c673b7e-544e-4c68-a67e-c4959c5d61cd",
   "metadata": {},
   "outputs": [
    {
     "name": "stdout",
     "output_type": "stream",
     "text": [
      "3. Одна из строк пустая\n"
     ]
    },
    {
     "ename": "Exception",
     "evalue": "Строки должны быть одной длины",
     "output_type": "error",
     "traceback": [
      "\u001b[1;31m---------------------------------------------------------------------------\u001b[0m",
      "\u001b[1;31mException\u001b[0m                                 Traceback (most recent call last)",
      "Cell \u001b[1;32mIn[16], line 2\u001b[0m\n\u001b[0;32m      1\u001b[0m \u001b[38;5;28mprint\u001b[39m(\u001b[38;5;124m'\u001b[39m\u001b[38;5;124m3. Одна из строк пустая\u001b[39m\u001b[38;5;124m'\u001b[39m)\n\u001b[1;32m----> 2\u001b[0m \u001b[38;5;28mprint\u001b[39m(\u001b[38;5;124m'\u001b[39m\u001b[38;5;124mРезультат:\u001b[39m\u001b[38;5;124m'\u001b[39m, hamming_distance(s1\u001b[38;5;241m.\u001b[39mseq, empty_seq))\n",
      "Cell \u001b[1;32mIn[11], line 3\u001b[0m, in \u001b[0;36mhamming_distance\u001b[1;34m(str1, str2)\u001b[0m\n\u001b[0;32m      1\u001b[0m \u001b[38;5;28;01mdef\u001b[39;00m \u001b[38;5;21mhamming_distance\u001b[39m(str1, str2):\n\u001b[0;32m      2\u001b[0m    \u001b[38;5;28;01mif\u001b[39;00m (\u001b[38;5;28mlen\u001b[39m(str1) \u001b[38;5;241m!=\u001b[39m \u001b[38;5;28mlen\u001b[39m(str2)):\n\u001b[1;32m----> 3\u001b[0m        \u001b[38;5;28;01mraise\u001b[39;00m \u001b[38;5;167;01mException\u001b[39;00m(\u001b[38;5;124m'\u001b[39m\u001b[38;5;124mСтроки должны быть одной длины\u001b[39m\u001b[38;5;124m'\u001b[39m)\n\u001b[0;32m      4\u001b[0m    distance \u001b[38;5;241m=\u001b[39m \u001b[38;5;28msum\u001b[39m(с1 \u001b[38;5;241m!=\u001b[39m с2 \u001b[38;5;28;01mfor\u001b[39;00m с1, с2 \u001b[38;5;129;01min\u001b[39;00m \u001b[38;5;28mzip\u001b[39m(str1, str2))\n\u001b[0;32m      5\u001b[0m    \u001b[38;5;28;01mreturn\u001b[39;00m distance\n",
      "\u001b[1;31mException\u001b[0m: Строки должны быть одной длины"
     ]
    }
   ],
   "source": [
    "print('3. Одна из строк пустая')\n",
    "print('Результат:', hamming_distance(s1.seq, empty_seq))"
   ]
  },
  {
   "cell_type": "code",
   "execution_count": 17,
   "id": "dc6ec0cb83a31c8d",
   "metadata": {
    "ExecuteTime": {
     "end_time": "2025-03-11T21:39:57.688423025Z",
     "start_time": "2025-03-11T21:39:57.686581262Z"
    },
    "collapsed": false,
    "jupyter": {
     "outputs_hidden": false
    }
   },
   "outputs": [
    {
     "name": "stdout",
     "output_type": "stream",
     "text": [
      "4. Обе строки пустые:\n",
      "Результат: 0\n"
     ]
    }
   ],
   "source": [
    "print('4. Обе строки пустые:')\n",
    "print('Результат:', hamming_distance(empty_seq, empty_seq))"
   ]
  },
  {
   "cell_type": "code",
   "execution_count": 18,
   "id": "682ecc9f-b968-48e6-931b-808fdb84f216",
   "metadata": {},
   "outputs": [
    {
     "name": "stdout",
     "output_type": "stream",
     "text": [
      "5. Строки одинаковой днинны и с разными значениями\n",
      "Результат: 2\n"
     ]
    }
   ],
   "source": [
    "print('5. Строки одинаковой днинны и с разными значениями')\n",
    "print('Результат:', hamming_distance(sc1.seq, sc2.seq))"
   ]
  },
  {
   "cell_type": "markdown",
   "id": "d1008254-a7f5-48a1-9410-6019bcbdd8c4",
   "metadata": {},
   "source": [
    "## 2. Ближайшая подстрока\n",
    "Даны 2 строки над алфавитом ATGC, реализуйте алгоритм, который позволит находить подстроку в более длинной строке, которая ближе всего по расстоянию Хэминга к боллее короткой. Верните позицию начала этой подстроки, саму подстроку и рассстояние хэмминга."
   ]
  },
  {
   "cell_type": "code",
   "execution_count": 33,
   "id": "c107cb38-cfc9-4d48-ba66-437670d9d2b3",
   "metadata": {},
   "outputs": [],
   "source": [
    "## Код в соответствии с заданием\n",
    "def get_closest_substring(long_str, short_str):   \n",
    "    len1 = len(long_str)\n",
    "    len2 = len(short_str)\n",
    "\n",
    "    if len1 < len2:\n",
    "        long_str, short_str, len1, len2 = short_str, long_str, len2, len1\n",
    "        \n",
    "    min_dist = float('inf')\n",
    "    best_position = -1\n",
    "    short_len = len(short_str)\n",
    "    best_substr = ''\n",
    "    \n",
    "    for i in range(len1 - len2 + 1):\n",
    "        substr = long_str[i:i + len2]\n",
    "        dist = hamming_distance(substr, short_str)\n",
    "        \n",
    "        if dist < min_dist:\n",
    "            min_dist = dist\n",
    "            best_position = i\n",
    "            best_substr = substr\n",
    "\n",
    "    return best_position, best_substr, min_dist"
   ]
  },
  {
   "cell_type": "markdown",
   "id": "377d881e-8d97-4e49-ac2f-e34cc562c00d",
   "metadata": {},
   "source": [
    "### Тестирование"
   ]
  },
  {
   "cell_type": "code",
   "execution_count": 34,
   "id": "7cb1281b-dfd7-4444-b32a-3a411dd1eb30",
   "metadata": {},
   "outputs": [
    {
     "name": "stdout",
     "output_type": "stream",
     "text": [
      "1. Строки разной длины\n",
      "Результат: Позиция начала подстроки: 924, подстрока: CTTTTGA, расстояние Хэмминга: 2\n"
     ]
    }
   ],
   "source": [
    "print('1. Строки разной длины')\n",
    "res = get_closest_substring(s1.seq, sc2.seq)\n",
    "print(f\"Результат: Позиция начала подстроки: {res[0]}, подстрока: {res[1]}, расстояние Хэмминга: {res[2]}\")"
   ]
  },
  {
   "cell_type": "code",
   "execution_count": 35,
   "id": "e6176686-7c33-4bb2-a0b0-99a127fc2e17",
   "metadata": {},
   "outputs": [
    {
     "name": "stdout",
     "output_type": "stream",
     "text": [
      "2. Строки совпадают:\n",
      "Результат: Позиция начала подстроки: 0, подстрока: CATTAGA, расстояние Хэмминга: 0\n"
     ]
    }
   ],
   "source": [
    "print('2. Строки совпадают:')\n",
    "res = get_closest_substring(sc2.seq, sc2.seq)\n",
    "print(f\"Результат: Позиция начала подстроки: {res[0]}, подстрока: {res[1]}, расстояние Хэмминга: {res[2]}\")"
   ]
  },
  {
   "cell_type": "code",
   "execution_count": 36,
   "id": "59373c31-f162-46f1-b50f-241ed0693a21",
   "metadata": {},
   "outputs": [
    {
     "name": "stdout",
     "output_type": "stream",
     "text": [
      "3. Одна из строк пустая\n",
      "Результат: Позиция начала подстроки: 0, подстрока: , расстояние Хэмминга: 0\n"
     ]
    }
   ],
   "source": [
    "print('3. Одна из строк пустая')\n",
    "res = get_closest_substring(sc2.seq, empty_seq)\n",
    "print(f\"Результат: Позиция начала подстроки: {res[0]}, подстрока: {res[1]}, расстояние Хэмминга: {res[2]}\")"
   ]
  },
  {
   "cell_type": "code",
   "execution_count": 37,
   "id": "ea17ee26-c209-47c9-886f-e05c3226cc16",
   "metadata": {},
   "outputs": [
    {
     "name": "stdout",
     "output_type": "stream",
     "text": [
      "4. Обе строки пустые:\n",
      "Результат: Позиция начала подстроки: 0, подстрока: , расстояние Хэмминга: 0\n"
     ]
    }
   ],
   "source": [
    "print('4. Обе строки пустые:')\n",
    "res = get_closest_substring(empty_seq, empty_seq)\n",
    "print(f\"Результат: Позиция начала подстроки: {res[0]}, подстрока: {res[1]}, расстояние Хэмминга: {res[2]}\")"
   ]
  },
  {
   "cell_type": "code",
   "execution_count": 38,
   "id": "544af8f4-ce29-44d4-9cd1-fffe07ff3cd6",
   "metadata": {},
   "outputs": [
    {
     "name": "stdout",
     "output_type": "stream",
     "text": [
      "5. Вторая строка длиннее первой\n",
      "Результат: Позиция начала подстроки: 924, подстрока: CTTTTGA, расстояние Хэмминга: 2\n"
     ]
    }
   ],
   "source": [
    "print('5. Вторая строка длиннее первой')\n",
    "res = get_closest_substring(sc2.seq, s1.seq)\n",
    "print(f\"Результат: Позиция начала подстроки: {res[0]}, подстрока: {res[1]}, расстояние Хэмминга: {res[2]}\")"
   ]
  },
  {
   "cell_type": "code",
   "execution_count": 20,
   "id": "0c2e80fd-1213-41a9-b1a5-65be74fc3a67",
   "metadata": {},
   "outputs": [
    {
     "name": "stdout",
     "output_type": "stream",
     "text": [
      "Тестирование2:\n",
      "CTTTTGA\n",
      "CAGGAGA\n",
      "CATCAGT\n",
      "CATAGGA\n",
      "AATCAGA\n",
      "GAGTAGA\n",
      "CATGAAA\n",
      "CCCTAGA\n",
      "CATGGGA\n",
      "CATTTTA\n",
      "CCTTACA\n",
      "CATGATA\n"
     ]
    }
   ],
   "source": [
    "## Код, возвращающий список начальных позиций подстрок, соответствующих наименьшему расстоянию. \n",
    "# Сами подстроки можно получить зная начальную позицию и длину короткого слова\n",
    "def get_closest_substring2(long_str, short_str):\n",
    "    min_dist = float('inf')    \n",
    "    short_len = len(short_str)\n",
    "    \n",
    "    for i in range(len(long_str) - short_len + 1):\n",
    "        substr = long_str[i:i + short_len]\n",
    "        dist = hamming_distance(substr, short_str)\n",
    "        \n",
    "        if dist < min_dist:\n",
    "            min_dist = dist\n",
    "            res = [i]\n",
    "        elif dist == min_dist:\n",
    "            res.append(i)\n",
    "    return res, min_dist\n",
    "\n",
    "print('Тестирование2:')\n",
    "a, b = get_closest_substring2(s1.seq, sc2.seq)\n",
    "l = len(sc2.seq)\n",
    "for i in a: print(s1.seq[i:i+l])"
   ]
  },
  {
   "cell_type": "markdown",
   "id": "6c4835d4-688c-43cd-9b13-f004128ea3e3",
   "metadata": {},
   "source": [
    "## 3. Левенштейн\n",
    "Реализуйте алгоритм вычисления расстояния редактирования. O(n•m) по времени и O(min(n, m)) по памяти (обратите внимание на то, что возвращать способ получения из одной строки другую не нужно). Алгоритм возвращаеет одно число - расстояние редактирования между входными строками."
   ]
  },
  {
   "cell_type": "code",
   "execution_count": 39,
   "id": "dd0fdbc2-d9a1-4903-a693-1bf2a6a80647",
   "metadata": {},
   "outputs": [],
   "source": [
    "def levenshtein_distance(str1, str2):\n",
    "    len1 = len(str1)\n",
    "    len2 = len(str2)\n",
    "\n",
    "    if len1 > len2:\n",
    "        str1, str2, len1, len2 = str2, str1, len2, len1\n",
    "    l = len1 + 1\n",
    "    \n",
    "    prev_row = list(range(l))\n",
    "    cur_row = [0] * l\n",
    "\n",
    "    for j in range(1, len2 + 1):\n",
    "        cur_row[0] = j\n",
    "\n",
    "        for i in range(1, l):\n",
    "            ins = prev_row[i] + 1\n",
    "            dlt = cur_row[i - 1] + 1\n",
    "            cng = prev_row[i - 1] + (str1[i - 1] != str2[j - 1])\n",
    "            cur_row[i] = min(ins, dlt, cng)                  \n",
    "\n",
    "        prev_row, cur_row = cur_row, prev_row\n",
    "    \n",
    "    return prev_row[len1]"
   ]
  },
  {
   "cell_type": "markdown",
   "id": "30f41914-02c0-436b-9086-1cf074938283",
   "metadata": {},
   "source": [
    "### Тестирование"
   ]
  },
  {
   "cell_type": "code",
   "execution_count": 40,
   "id": "426cba19-3a6c-46c1-ba57-298341fdbd8d",
   "metadata": {},
   "outputs": [
    {
     "name": "stdout",
     "output_type": "stream",
     "text": [
      "1. Строки разной длины\n",
      "Результат: 69\n"
     ]
    }
   ],
   "source": [
    "print('1. Строки разной длины')\n",
    "print('Результат:', levenshtein_distance(s1.seq, s2.seq))"
   ]
  },
  {
   "cell_type": "code",
   "execution_count": 43,
   "id": "3b38866d-ac86-44c4-aaf8-91ef70300248",
   "metadata": {},
   "outputs": [
    {
     "name": "stdout",
     "output_type": "stream",
     "text": [
      "2. Строки совпадают:\n",
      "Результат: 0\n"
     ]
    }
   ],
   "source": [
    "print('2. Строки совпадают:')\n",
    "print('Результат:', levenshtein_distance(s1.seq, s1.seq))"
   ]
  },
  {
   "cell_type": "code",
   "execution_count": 44,
   "id": "25fe0058-0c13-41e7-8f65-1c2c52cb8a2a",
   "metadata": {},
   "outputs": [
    {
     "name": "stdout",
     "output_type": "stream",
     "text": [
      "3. Одна из строк пустая\n",
      "Результат: 1707\n"
     ]
    }
   ],
   "source": [
    "print('3. Одна из строк пустая')\n",
    "print('Результат:', levenshtein_distance(s1.seq, empty_seq))"
   ]
  },
  {
   "cell_type": "code",
   "execution_count": 45,
   "id": "737074b4-d762-411b-aad1-073f86ce1535",
   "metadata": {},
   "outputs": [
    {
     "name": "stdout",
     "output_type": "stream",
     "text": [
      "4. Обе строки пустые:\n",
      "Результат: 0\n"
     ]
    }
   ],
   "source": [
    "print('4. Обе строки пустые:')\n",
    "print('Результат:', levenshtein_distance(empty_seq, empty_seq))"
   ]
  },
  {
   "cell_type": "code",
   "execution_count": 46,
   "id": "2d07152b-2a03-49db-a980-ef95f8853b66",
   "metadata": {},
   "outputs": [
    {
     "name": "stdout",
     "output_type": "stream",
     "text": [
      "5. Строки одинаковой днинны и с разными значениями\n",
      "Результат: 2\n"
     ]
    }
   ],
   "source": [
    "print('5. Строки одинаковой днинны и с разными значениями')\n",
    "print('Результат:', levenshtein_distance(sc1.seq, sc2.seq))"
   ]
  },
  {
   "cell_type": "code",
   "execution_count": null,
   "id": "c49baa47-b8ad-4cfb-a24e-51f89288fe6e",
   "metadata": {},
   "outputs": [],
   "source": []
  }
 ],
 "metadata": {
  "kernelspec": {
   "display_name": "Python 3 (ipykernel)",
   "language": "python",
   "name": "python3"
  },
  "language_info": {
   "codemirror_mode": {
    "name": "ipython",
    "version": 3
   },
   "file_extension": ".py",
   "mimetype": "text/x-python",
   "name": "python",
   "nbconvert_exporter": "python",
   "pygments_lexer": "ipython3",
   "version": "3.12.4"
  }
 },
 "nbformat": 4,
 "nbformat_minor": 5
}
