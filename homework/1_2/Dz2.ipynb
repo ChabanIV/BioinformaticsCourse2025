{
 "cells": [
  {
   "cell_type": "markdown",
   "id": "92d977b1d31bbb8e",
   "metadata": {
    "collapsed": false,
    "jupyter": {
     "outputs_hidden": false
    }
   },
   "source": [
    "# Домашнее задание по первой лекции.\n"
   ]
  },
  {
   "cell_type": "markdown",
   "id": "f02a9d3468c731bc",
   "metadata": {
    "collapsed": false,
    "jupyter": {
     "outputs_hidden": false
    }
   },
   "source": [
    "## 1. Нидлман Вунш\n",
    "Реализуйте алгоритм Нидлмана Вунша для выравнивания последовательностеей. На вход принимается две строки, матрица замен и стоимость гэпа. В результате верните оптимальное выравнивание и его вес. При проверке помните, что оптимальных выравниваний может быть несколько, но вес у них должен совпадать."
   ]
  },
  {
   "cell_type": "code",
   "execution_count": 4,
   "id": "66b1e08a-3322-40de-835e-73effcf91579",
   "metadata": {},
   "outputs": [
    {
     "name": "stdout",
     "output_type": "stream",
     "text": [
      "#  Matrix made by matblas from blosum62.iij\n",
      "#  * column uses minimum score\n",
      "#  BLOSUM Clustered Scoring Matrix in 1/2 Bit Units\n",
      "#  Blocks Database = /data/blocks_5.0/blocks.dat\n",
      "#  Cluster Percentage: >= 62\n",
      "#  Entropy =   0.6979, Expected =  -0.5209\n",
      "     A    R    N    D    C    Q    E    G    H    I    L    K    M    F    P    S    T    W    Y    V    B    Z    X    *\n",
      "A  4.0 -1.0 -2.0 -2.0  0.0 -1.0 -1.0  0.0 -2.0 -1.0 -1.0 -1.0 -1.0 -2.0 -1.0  1.0  0.0 -3.0 -2.0  0.0 -2.0 -1.0  0.0 -4.0\n",
      "R -1.0  5.0  0.0 -2.0 -3.0  1.0  0.0 -2.0  0.0 -3.0 -2.0  2.0 -1.0 -3.0 -2.0 -1.0 -1.0 -3.0 -2.0 -3.0 -1.0  0.0 -1.0 -4.0\n",
      "N -2.0  0.0  6.0  1.0 -3.0  0.0  0.0  0.0  1.0 -3.0 -3.0  0.0 -2.0 -3.0 -2.0  1.0  0.0 -4.0 -2.0 -3.0  3.0  0.0 -1.0 -4.0\n",
      "D -2.0 -2.0  1.0  6.0 -3.0  0.0  2.0 -1.0 -1.0 -3.0 -4.0 -1.0 -3.0 -3.0 -1.0  0.0 -1.0 -4.0 -3.0 -3.0  4.0  1.0 -1.0 -4.0\n",
      "C  0.0 -3.0 -3.0 -3.0  9.0 -3.0 -4.0 -3.0 -3.0 -1.0 -1.0 -3.0 -1.0 -2.0 -3.0 -1.0 -1.0 -2.0 -2.0 -1.0 -3.0 -3.0 -2.0 -4.0\n",
      "Q -1.0  1.0  0.0  0.0 -3.0  5.0  2.0 -2.0  0.0 -3.0 -2.0  1.0  0.0 -3.0 -1.0  0.0 -1.0 -2.0 -1.0 -2.0  0.0  3.0 -1.0 -4.0\n",
      "E -1.0  0.0  0.0  2.0 -4.0  2.0  5.0 -2.0  0.0 -3.0 -3.0  1.0 -2.0 -3.0 -1.0  0.0 -1.0 -3.0 -2.0 -2.0  1.0  4.0 -1.0 -4.0\n",
      "G  0.0 -2.0  0.0 -1.0 -3.0 -2.0 -2.0  6.0 -2.0 -4.0 -4.0 -2.0 -3.0 -3.0 -2.0  0.0 -2.0 -2.0 -3.0 -3.0 -1.0 -2.0 -1.0 -4.0\n",
      "H -2.0  0.0  1.0 -1.0 -3.0  0.0  0.0 -2.0  8.0 -3.0 -3.0 -1.0 -2.0 -1.0 -2.0 -1.0 -2.0 -2.0  2.0 -3.0  0.0  0.0 -1.0 -4.0\n",
      "I -1.0 -3.0 -3.0 -3.0 -1.0 -3.0 -3.0 -4.0 -3.0  4.0  2.0 -3.0  1.0  0.0 -3.0 -2.0 -1.0 -3.0 -1.0  3.0 -3.0 -3.0 -1.0 -4.0\n",
      "L -1.0 -2.0 -3.0 -4.0 -1.0 -2.0 -3.0 -4.0 -3.0  2.0  4.0 -2.0  2.0  0.0 -3.0 -2.0 -1.0 -2.0 -1.0  1.0 -4.0 -3.0 -1.0 -4.0\n",
      "K -1.0  2.0  0.0 -1.0 -3.0  1.0  1.0 -2.0 -1.0 -3.0 -2.0  5.0 -1.0 -3.0 -1.0  0.0 -1.0 -3.0 -2.0 -2.0  0.0  1.0 -1.0 -4.0\n",
      "M -1.0 -1.0 -2.0 -3.0 -1.0  0.0 -2.0 -3.0 -2.0  1.0  2.0 -1.0  5.0  0.0 -2.0 -1.0 -1.0 -1.0 -1.0  1.0 -3.0 -1.0 -1.0 -4.0\n",
      "F -2.0 -3.0 -3.0 -3.0 -2.0 -3.0 -3.0 -3.0 -1.0  0.0  0.0 -3.0  0.0  6.0 -4.0 -2.0 -2.0  1.0  3.0 -1.0 -3.0 -3.0 -1.0 -4.0\n",
      "P -1.0 -2.0 -2.0 -1.0 -3.0 -1.0 -1.0 -2.0 -2.0 -3.0 -3.0 -1.0 -2.0 -4.0  7.0 -1.0 -1.0 -4.0 -3.0 -2.0 -2.0 -1.0 -2.0 -4.0\n",
      "S  1.0 -1.0  1.0  0.0 -1.0  0.0  0.0  0.0 -1.0 -2.0 -2.0  0.0 -1.0 -2.0 -1.0  4.0  1.0 -3.0 -2.0 -2.0  0.0  0.0  0.0 -4.0\n",
      "T  0.0 -1.0  0.0 -1.0 -1.0 -1.0 -1.0 -2.0 -2.0 -1.0 -1.0 -1.0 -1.0 -2.0 -1.0  1.0  5.0 -2.0 -2.0  0.0 -1.0 -1.0  0.0 -4.0\n",
      "W -3.0 -3.0 -4.0 -4.0 -2.0 -2.0 -3.0 -2.0 -2.0 -3.0 -2.0 -3.0 -1.0  1.0 -4.0 -3.0 -2.0 11.0  2.0 -3.0 -4.0 -3.0 -2.0 -4.0\n",
      "Y -2.0 -2.0 -2.0 -3.0 -2.0 -1.0 -2.0 -3.0  2.0 -1.0 -1.0 -2.0 -1.0  3.0 -3.0 -2.0 -2.0  2.0  7.0 -1.0 -3.0 -2.0 -1.0 -4.0\n",
      "V  0.0 -3.0 -3.0 -3.0 -1.0 -2.0 -2.0 -3.0 -3.0  3.0  1.0 -2.0  1.0 -1.0 -2.0 -2.0  0.0 -3.0 -1.0  4.0 -3.0 -2.0 -1.0 -4.0\n",
      "B -2.0 -1.0  3.0  4.0 -3.0  0.0  1.0 -1.0  0.0 -3.0 -4.0  0.0 -3.0 -3.0 -2.0  0.0 -1.0 -4.0 -3.0 -3.0  4.0  1.0 -1.0 -4.0\n",
      "Z -1.0  0.0  0.0  1.0 -3.0  3.0  4.0 -2.0  0.0 -3.0 -3.0  1.0 -1.0 -3.0 -1.0  0.0 -1.0 -3.0 -2.0 -2.0  1.0  4.0 -1.0 -4.0\n",
      "X  0.0 -1.0 -1.0 -1.0 -2.0 -1.0 -1.0 -1.0 -1.0 -1.0 -1.0 -1.0 -1.0 -1.0 -2.0  0.0  0.0 -2.0 -1.0 -1.0 -1.0 -1.0 -1.0 -4.0\n",
      "* -4.0 -4.0 -4.0 -4.0 -4.0 -4.0 -4.0 -4.0 -4.0 -4.0 -4.0 -4.0 -4.0 -4.0 -4.0 -4.0 -4.0 -4.0 -4.0 -4.0 -4.0 -4.0 -4.0  1.0\n",
      "\n",
      "      A      T      G      C\n",
      "A    4.0    0.0    0.0    0.0 \n",
      "T    0.0    5.0   -2.0   -1.0 \n",
      "G    0.0   -2.0    6.0   -3.0 \n",
      "C    0.0   -1.0   -3.0    9.0 \n"
     ]
    }
   ],
   "source": [
    "#from Bio.SubsMat import MatrixInfo as matlist\n",
    "from Bio.Align import substitution_matrices\n",
    "#matrix = matlist.blosum62 # Устаревший вариант\n",
    "matrix = substitution_matrices.load('BLOSUM62')\n",
    "print(matrix)\n",
    "alfa = {\"A\", \"T\", \"G\", \"C\"}\n",
    "\n",
    "nucleotides = [\"A\", \"T\", \"G\", \"C\"]\n",
    "print(\"      A\", \"     T\", \"     G\", \"     C\")\n",
    "for i in nucleotides:\n",
    "    print(i,end = ' ')\n",
    "    for j in nucleotides:\n",
    "        print(f\"{matrix[i, j]:>6}\", end = ' ')\n",
    "    print()\n",
    "new_matrix = {}\n"
   ]
  },
  {
   "cell_type": "code",
   "execution_count": 128,
   "id": "6842b885-7b67-4869-8d91-ebfb7c5b5eee",
   "metadata": {},
   "outputs": [],
   "source": [
    "import numpy as np\n",
    "\n",
    "def needleman_wunsch(seq1, seq2, subst_matrix, gap):\n",
    "    n = len(seq1) + 1\n",
    "    m = len(seq2) + 1\n",
    "    \n",
    "    dp = np.zeros((n, m))\n",
    "    dp[1:, 0]= np.arange(1, n)*gap    \n",
    "    dp[0, 1:]= np.arange(1, m)*gap\n",
    "    \n",
    "    for i in range(1, n):\n",
    "        for j in range(1, m):\n",
    "            match = dp[i-1][j-1] + subst_matrix[seq1[i-1]][seq2[j-1]]\n",
    "            dlt = dp[i-1][j] + gap\n",
    "            ins = dp[i][j-1] + gap\n",
    "            dp[i][j] = max(match, dlt, ins)\n",
    "    \n",
    "    n -=1\n",
    "    m -=1\n",
    "        \n",
    "    def get_alignments(i, j):\n",
    "        if i == 0 and j == 0:\n",
    "            return {(\"\", \"\")}\n",
    "        \n",
    "        alignments = set()\n",
    "        curr = dp[i, j]\n",
    "                \n",
    "        if i > 0 and j > 0 and curr == dp[i - 1, j - 1] + subst_matrix[seq1[i - 1]][seq2[j - 1]]:\n",
    "            for alignment in get_alignments(i - 1, j - 1):\n",
    "                alignments.add((alignment[0] + seq1[i - 1], alignment[1] + seq2[j - 1]))\n",
    "                \n",
    "        if i > 0 and curr == dp[i - 1, j] + gap:\n",
    "            for alignment in get_alignments(i - 1, j):\n",
    "                alignments.add((alignment[0] + seq1[i - 1], alignment[1] + \"-\"))\n",
    "                \n",
    "        if j > 0 and curr == dp[i, j - 1] + gap:\n",
    "            for alignment in get_alignments(i, j - 1):\n",
    "                alignments.add((alignment[0] + \"-\", alignment[1] + seq2[j - 1]))\n",
    "        \n",
    "        return alignments    \n",
    "\n",
    "    #print(dp)\n",
    "    \n",
    "    return get_alignments(n, m), dp[n][m]    \n"
   ]
  },
  {
   "cell_type": "markdown",
   "id": "2fcd468a-4e6b-43ce-ad6c-47bd9b51307f",
   "metadata": {},
   "source": [
    "### Проверка"
   ]
  },
  {
   "cell_type": "code",
   "execution_count": 267,
   "id": "e57e2402-aa83-4d3a-b79e-25c811bda5dc",
   "metadata": {},
   "outputs": [
    {
     "name": "stdout",
     "output_type": "stream",
     "text": [
      "Данные для проверки:\n",
      "  Последовательность 1: GCGGGCG\n",
      "  Последовательность 2: CCCTC\n",
      "  Матрица замен: BLOSUM62\n",
      "  Стоимость гэпа: -2\n",
      "\n",
      "Результат:\n",
      "[[  0.  -2.  -4.  -6.  -8. -10.]\n",
      " [ -2.  -3.  -5.  -7.  -8. -10.]\n",
      " [ -4.   7.   6.   4.   2.   1.]\n",
      " [ -6.   5.   4.   3.   2.   0.]\n",
      " [ -8.   3.   2.   1.   1.  -1.]\n",
      " [-10.   1.   0.  -1.  -1.  -2.]\n",
      " [-12.  -1.  10.   9.   7.   8.]\n",
      " [-14.  -3.   8.   7.   7.   6.]]\n",
      "Score = 6.0\n",
      "Optimal alignment 1:\n",
      "  GCGGGCG\n",
      "  CC-CTC-\n",
      "Optimal alignment 2:\n",
      "  GCGGGCG\n",
      "  CCCT-C-\n",
      "Optimal alignment 3:\n",
      "  GCGGGCG\n",
      "  -CCCTC-\n",
      "Optimal alignment 4:\n",
      "  GCGGGCG\n",
      "  CCC-TC-\n"
     ]
    }
   ],
   "source": [
    "seq1 = \"GCATGCG\"#\"AGTACGCA\"\n",
    "seq2 = \"CATTACA\"#\"TATGC\"\n",
    "seq1 = \"GCA\"#\"AGTACGCA\"\n",
    "seq2 = \"CATGA\"#\"TATGC\"\n",
    "seq1 = \"GCGGGCG\"#\"AGTACGCA\"\n",
    "seq2 = \"CCCTC\"#\"TATGC\"\n",
    "subst_matrix =matrix \n",
    "gap_penalty = -2\n",
    "\n",
    "print('Данные для проверки:')\n",
    "print('  Последовательность 1:', seq1)\n",
    "print('  Последовательность 2:', seq2)\n",
    "print('  Матрица замен:', 'BLOSUM62')\n",
    "print('  Стоимость гэпа:', gap_penalty)\n",
    "print('\\nРезультат:')\n",
    "i = 1\n",
    "alignments, score = needleman_wunsch(seq1, seq2, subst_matrix, gap_penalty)\n",
    "print(\"Score =\", score)\n",
    "for a, b in alignments:\n",
    "    print(f\"Optimal alignment {i}:\")\n",
    "    print(f'  {a}\\n  {b}')\n",
    "    i+=1"
   ]
  },
  {
   "cell_type": "markdown",
   "id": "d1008254-a7f5-48a1-9410-6019bcbdd8c4",
   "metadata": {},
   "source": [
    "## 2. Афинные гэпы\n",
    "Реализуйте выравнивание с афинными гэпами, алгоритм на вход принимает две строки, матрицу замен, штраф за начало гэпа α, и за его продолжение β. В результате возвращает выравнивание и его вес. Сложность алгоритма квадратичная по памяти и по времени"
   ]
  },
  {
   "cell_type": "code",
   "execution_count": 2,
   "id": "0d10aa0b-9c6e-4a84-a2bc-0ec006bd44a1",
   "metadata": {},
   "outputs": [],
   "source": [
    "import numpy as np\n",
    "\n",
    "def affine_alignment(seq1, seq2, subst_matrix, gap_a, gap_b):\n",
    "    n = len(seq1) + 1\n",
    "    m = len(seq2) + 1\n",
    "    if n == m == 1: return set(), 0\n",
    "    \n",
    "    dp =[[[-np.inf for _ in range(3) ] for j in range(m)] for i in range(n)]\n",
    "    #gap_beg = np.full((n, m), -np.inf)#np.zeros((n, m))\n",
    "    #gap_next = np.full((n, m ), -np.inf)#np.zeros((n, m))\n",
    "    #gap_beg[0, 0], gap_next[0,0] = 0,0     \n",
    "    dp[0][0] = [0,0,0]\n",
    "    \n",
    "    cost = gap_a\n",
    "    for i in range(1, n):        \n",
    "        #dp[i][0] = cost\n",
    "        if i == 1: dp[i][0][1] = cost\n",
    "        else: dp[i][0][2] = cost\n",
    "        cost +=gap_b        \n",
    "\n",
    "    cost = gap_a\n",
    "    for j in range(1, m):            \n",
    "        if j == 1: dp[0][j][1] = cost\n",
    "        else: dp[0][j][2] = cost\n",
    "        cost +=gap_b\n",
    "    \n",
    "    \n",
    "    for i in range(1, n):\n",
    "        for j in range(1, m ):                        \n",
    "            match =  subst_matrix[seq1[i - 1]][seq2[j - 1]] + max(dp[i - 1][j - 1])\n",
    "            dp[i][j][0] = match \n",
    "            dp[i][j][1]  = max(dp[i][j - 1][0], dp[i-1][j ][0])+gap_a\n",
    "            dp[i][j][2]  = max(dp[i][j - 1][1], dp[i-1][j ][1])+gap_b           \n",
    "\n",
    "    n -=1\n",
    "    m -=1\n",
    "    mcurr = max(dp[n][m])\n",
    "    \n",
    "    def get_alignments(i, j, curr):        \n",
    "        if i == 0 and j == 0:\n",
    "            return {(\"\", \"\")}\n",
    "        \n",
    "        alignments = set()\n",
    "                \n",
    "        if i > 0 and j > 0 and curr == max(dp[i - 1][ j - 1]) + subst_matrix[seq1[i - 1]][seq2[j - 1]]:\n",
    "            for alignment in get_alignments(i - 1, j - 1, max(dp[i - 1][ j - 1])):\n",
    "                alignments.add((alignment[0] + seq1[i - 1], alignment[1] + seq2[j - 1]))        \n",
    "\n",
    "        if i > 0 and curr == dp[i - 1][ j][0] + gap_a == dp[i][j][1]:\n",
    "            for alignment in get_alignments(i - 1, j, dp[i - 1][ j][0]):\n",
    "                alignments.add((alignment[0] + seq1[i - 1], alignment[1] + \"-\"))\n",
    "                \n",
    "        if j > 0 and curr == dp[i][j - 1][0] + gap_a == dp[i][j][1]:\n",
    "            for alignment in get_alignments(i, j - 1, dp[i][j - 1][0]):\n",
    "                alignments.add((alignment[0] + \"-\", alignment[1] + seq2[j - 1]))\n",
    "\n",
    "        if curr == dp[i][j][2]:\n",
    "            \n",
    "            if i > 0 and (curr == dp[i - 1][ j][1] + gap_b ):\n",
    "                for alignment in get_alignments(i - 1, j, dp[i - 1][ j][1]):\n",
    "                    alignments.add((alignment[0] + seq1[i - 1], alignment[1] + \"-\"))\n",
    "            if i > 0 and ( curr == dp[i - 1][ j][2] + gap_b):\n",
    "                for alignment in get_alignments(i - 1, j, dp[i - 1][ j][2]):\n",
    "                    alignments.add((alignment[0] + seq1[i - 1], alignment[1] + \"-\"))\n",
    "                    \n",
    "            if j > 0 and (curr == dp[i][ j - 1][1] + gap_b):\n",
    "                for alignment in get_alignments(i, j - 1, dp[i][ j - 1][1]):\n",
    "                    alignments.add((alignment[0] + \"-\", alignment[1] + seq2[j - 1]))\n",
    "            if j > 0 and (curr == dp[i][ j - 1][2] + gap_b):\n",
    "                for alignment in get_alignments(i, j - 1, dp[i][ j - 1][2]):\n",
    "                    alignments.add((alignment[0] + \"-\", alignment[1] + seq2[j - 1]))\n",
    "        \n",
    "        return alignments \n",
    "\n",
    "    return get_alignments(n, m, mcurr), mcurr\n"
   ]
  },
  {
   "cell_type": "markdown",
   "id": "377d881e-8d97-4e49-ac2f-e34cc562c00d",
   "metadata": {},
   "source": [
    "### Проверка"
   ]
  },
  {
   "cell_type": "code",
   "execution_count": 5,
   "id": "7cb1281b-dfd7-4444-b32a-3a411dd1eb30",
   "metadata": {},
   "outputs": [
    {
     "name": "stdout",
     "output_type": "stream",
     "text": [
      "Данные для проверки:\n",
      "  Последовательность 1: GCA\n",
      "  Последовательность 2: TGCGC\n",
      "  Матрица замен: BLOSUM62\n",
      "  Штраф за начало гэпа: -3\n",
      "  Штраф за продолжение гэпа: -1\n",
      "\n",
      "Результат:\n",
      "Score = 9.0\n",
      "Optimal alignment 1:\n",
      "  -GC-A\n",
      "  TGCGC\n",
      "Optimal alignment 2:\n",
      "  -GCA-\n",
      "  TGCGC\n"
     ]
    }
   ],
   "source": [
    "seq1 = \"GCA\"\n",
    "seq2 = \"TGCGC\"\n",
    "subst_matrix =matrix \n",
    "gap_a = -3\n",
    "gap_b = -1\n",
    "\n",
    "print('Данные для проверки:')\n",
    "print('  Последовательность 1:', seq1)\n",
    "print('  Последовательность 2:', seq2)\n",
    "print('  Матрица замен:', 'BLOSUM62')\n",
    "print('  Штраф за начало гэпа:', gap_a)\n",
    "print('  Штраф за продолжение гэпа:', gap_b)\n",
    "print('\\nРезультат:')\n",
    "i = 1\n",
    "alignments, score = affine_alignment(seq1, seq2, subst_matrix, gap_a, gap_b)\n",
    "print(\"Score =\", score)\n",
    "for a, b in alignments:\n",
    "    print(f\"Optimal alignment {i}:\")\n",
    "    print(f'  {a}\\n  {b}')\n",
    "    i+=1\n"
   ]
  },
  {
   "cell_type": "code",
   "execution_count": 392,
   "id": "cd13cfc6-1071-4da7-8b13-6e4b4db9a60f",
   "metadata": {},
   "outputs": [
    {
     "name": "stdout",
     "output_type": "stream",
     "text": [
      "-GCA-\n",
      " ||. \n",
      "TGCGC\n",
      "  Score=9\n",
      "\n",
      "-GC-A\n",
      " || .\n",
      "TGCGC\n",
      "  Score=9\n",
      "\n"
     ]
    }
   ],
   "source": [
    "#Использовала для тестирования и сравнения результатов\n",
    "from Bio import pairwise2\n",
    "\n",
    "seq1 = \"GCA\"\n",
    "seq2 = \"TGCGC\"\n",
    "\n",
    "alignments = pairwise2.align.globalds(seq1, seq2, matrix, -3, -1)\n",
    "\n",
    "for alignment in alignments:\n",
    "    print(pairwise2.format_alignment(*alignment))\n"
   ]
  },
  {
   "cell_type": "markdown",
   "id": "6c4835d4-688c-43cd-9b13-f004128ea3e3",
   "metadata": {},
   "source": [
    "## 3. Теоретическая часть\n",
    "Количество выравниваний.\n",
    "\n",
    "Выведите рекуррентную формулу количества всех возможных выравниваний последовательностей длины n и m пользуясь разбиением всех выравниваний на непересекающиеся блоки. \n",
    "\n",
    "Получите точную формулу, основываясь на начальные условия и рекуррентную формулу.\n",
    "\n",
    "Воспользуйтесь приближением Стирлинга чтобы получить приближенную формулу количества выравниваний."
   ]
  },
  {
   "cell_type": "markdown",
   "id": "2a2fba85-935b-4649-9953-65ff6476a31f",
   "metadata": {},
   "source": [
    "**Выведите рекуррентную формулу количества всех возможных выравниваний последовательностей длины n и m пользуясь разбиением всех выравниваний на непересекающиеся блоки.**\n",
    "\n",
    "Начальные условия:\n",
    "- W(0, 0) = 1\n",
    "- W(n, 0) = 1\n",
    "- W(0, m) = 1\n",
    "\n",
    "Рекуррентная формула:\n",
    "$$ W(n, m) = W(n-1, m-1) + W(n-1, m) + W(n, m-1) $$\n",
    "Где:\n",
    "- W(n-1, m-1) = сопоставление символов двух строк\n",
    "- W(n-1, m) = гэп во второй последовательности \n",
    "- W(n, m-1) = гэп в первой последовательности"
   ]
  },
  {
   "cell_type": "markdown",
   "id": "e4b46352-c0fb-4a0b-9410-9fd00e0c261a",
   "metadata": {},
   "source": [
    "**Получите точную формулу, основываясь на начальные условия и рекуррентную формулу**\n",
    "\n",
    "Формулу нашла в статье https://doi.org/10.1080/10425170310001617894\n",
    "\n",
    "$$ f(n, m) = \\sum_{k=0}^{\\min(n, m)} 2^k\\binom{m}{k} \\binom{n}{k} $$ "
   ]
  },
  {
   "cell_type": "markdown",
   "id": "d65446be-8bd6-44f6-bb02-7ad3ed703a48",
   "metadata": {},
   "source": [
    "**Воспользуйтесь приближением Стирлинга чтобы получить приближенную формулу количества выравниваний**\n",
    "$$ f(n,m) =  \\sum_{k=0}^{\\min(n, m)}2^k \\binom{m}{k} \\binom{n}{k}  =  \\sum_{k=0}^{\\min(n, m)}\\frac{2^k m!  n!}{(k!)^2 (n-k)! (m-k)!} $$\n",
    "$$n! \\sim \\sqrt{2 \\pi n} \\left( \\frac{n}{e} \\right)^n $$\n",
    "$$S(k) = \\frac{2^k\\cdot \n",
    "\\sqrt{2\\pi m} \\left(\\frac{m}{e}\\right)^m \\cdot \n",
    "\\sqrt{2\\pi n} \\left(\\frac{n}{e}\\right)^n \n",
    "}{\n",
    "2\\pi k \\left(\\frac{k}{e}\\right)^{2k} \\cdot \n",
    "\\sqrt{2\\pi(n-k)} \\left(\\frac{n-k}{e}\\right)^{n-k} \\cdot \n",
    "\\sqrt{2\\pi(m-k)} \\left(\\frac{m-k}{e}\\right)^{m-k}\n",
    "} = \\frac{2^k\\cdot m^{\\frac{1}{2}+m} \\cdot n^{\\frac{1}{2}+n} \\cdot e^{2k+m-k+n-k}\n",
    "}{\n",
    "2\\pi k \\cdot k^{2k} \\cdot  (n-k)^{\\frac{1}{2}+n-k} \\cdot  ({m-k})^{\\frac{1}{2}+m-k}\\cdot e^{m+n}\n",
    "}$$\n",
    "$$=\\frac{2^k\\cdot m^{\\frac{1}{2}+m} \\cdot n^{\\frac{1}{2}+n} \n",
    "}{\n",
    "2\\pi \\cdot k^{2k+1} \\cdot  (n-k)^{\\frac{1}{2}+n-k} \\cdot  ({m-k})^{\\frac{1}{2}+m-k}\n",
    "}\n",
    "$$\n",
    "$$ f(n,m) \\approx  \\sum_{k=0}^{\\min(n, m)}\\frac{2^k\\cdot m^{\\frac{1}{2}+m} \\cdot n^{\\frac{1}{2}+n} \n",
    "}{\n",
    "2\\pi \\cdot k^{2k+1} \\cdot  (n-k)^{\\frac{1}{2}+n-k} \\cdot  ({m-k})^{\\frac{1}{2}+m-k}\\cdot\n",
    "} $$"
   ]
  }
 ],
 "metadata": {
  "kernelspec": {
   "display_name": "Python 3 (ipykernel)",
   "language": "python",
   "name": "python3"
  },
  "language_info": {
   "codemirror_mode": {
    "name": "ipython",
    "version": 3
   },
   "file_extension": ".py",
   "mimetype": "text/x-python",
   "name": "python",
   "nbconvert_exporter": "python",
   "pygments_lexer": "ipython3",
   "version": "3.12.4"
  }
 },
 "nbformat": 4,
 "nbformat_minor": 5
}
